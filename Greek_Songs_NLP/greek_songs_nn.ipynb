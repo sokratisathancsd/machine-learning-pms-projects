{
  "nbformat": 4,
  "nbformat_minor": 5,
  "metadata": {
    "kernelspec": {
      "display_name": "Python 3",
      "language": "python",
      "name": "python3"
    },
    "language_info": {
      "codemirror_mode": {
        "name": "ipython",
        "version": 3
      },
      "file_extension": ".py",
      "mimetype": "text/x-python",
      "name": "python",
      "nbconvert_exporter": "python",
      "pygments_lexer": "ipython3",
      "version": "3.8.8"
    },
    "colab": {
      "name": "greek_songs_nn.ipynb",
      "provenance": [],
      "collapsed_sections": []
    },
    "accelerator": "GPU"
  },
  "cells": [
    {
      "cell_type": "markdown",
      "metadata": {
        "id": "74da87bc-037c-449f-bca0-3c27d1c072cd"
      },
      "source": [
        "Get Data from URL, cleanse the data, and write data to 'lyrics.txt' file"
      ],
      "id": "74da87bc-037c-449f-bca0-3c27d1c072cd"
    },
    {
      "cell_type": "code",
      "metadata": {
        "id": "e8b2a38b-c91b-4a51-b05b-1a95612d56be"
      },
      "source": [
        "import requests\n",
        "from bs4 import BeautifulSoup\n",
        "import re\n",
        "import os\n",
        "import codecs\n",
        "\n",
        "url = 'https://stixoi.info/stixoi.php?info=Lyrics&act=index&sort=alpha&singer_id=1820'\n",
        "page = requests.get(url)\n",
        "soup = BeautifulSoup(page.content, 'html.parser')\n",
        "\n",
        "f = open('lyrics.txt', 'w', encoding='utf-8')\n",
        "tempsoup = soup.find_all('td', class_='row1') \n",
        "for i in range(1, 622, 9):\n",
        "    link = str(tempsoup[i].find('a'))\n",
        "    song_id = re.search('(?<=song_id=)(.*)(?=\")', link)\n",
        "    song_id = song_id.group()\n",
        "    song_lyrics_url = \"https://stixoi.info/stixoi.php?info=Lyrics&act=details&song_id=\"+song_id\n",
        "    page = requests.get(song_lyrics_url)\n",
        "    soup = BeautifulSoup(page.content, 'html.parser')\n",
        "    lyrics = soup.find_all('div', class_='lyrics')\n",
        "    lyrics = lyrics[0].get_text()\n",
        "    \n",
        "    #Remove empty lines from final lyrics\n",
        "    lyrics = os.linesep.join([s for s in lyrics.splitlines() if s])\n",
        "    f.write(lyrics)\n",
        "\n",
        "f.close()"
      ],
      "id": "e8b2a38b-c91b-4a51-b05b-1a95612d56be",
      "execution_count": 23,
      "outputs": []
    },
    {
      "cell_type": "markdown",
      "metadata": {
        "id": "9e8f1df7-4a42-4cc2-8486-f1e8c72bf0a3"
      },
      "source": [
        "Import tensorflow libraries and numpy"
      ],
      "id": "9e8f1df7-4a42-4cc2-8486-f1e8c72bf0a3"
    },
    {
      "cell_type": "code",
      "metadata": {
        "id": "811958dc-6875-4a7e-8d0c-dfda12325a1d"
      },
      "source": [
        "from tensorflow.keras.preprocessing.sequence import pad_sequences\n",
        "from tensorflow.keras.layers import Embedding, LSTM, Dense, Dropout, Bidirectional\n",
        "from tensorflow.keras.preprocessing.text import Tokenizer\n",
        "from tensorflow.keras.models import Sequential\n",
        "from tensorflow.keras.optimizers import Adam\n",
        "from tensorflow.keras import regularizers\n",
        "import tensorflow.keras.utils as ku \n",
        "import numpy as np"
      ],
      "id": "811958dc-6875-4a7e-8d0c-dfda12325a1d",
      "execution_count": 2,
      "outputs": []
    },
    {
      "cell_type": "markdown",
      "metadata": {
        "id": "5b69b2a5-5b4e-45f9-b058-e2f3bfa42a10"
      },
      "source": [
        "Prepare Data"
      ],
      "id": "5b69b2a5-5b4e-45f9-b058-e2f3bfa42a10"
    },
    {
      "cell_type": "code",
      "metadata": {
        "id": "68e02cb0-1e63-4a0b-8b4d-bc066ff068f7"
      },
      "source": [
        "data = open('lyrics.txt', encoding = 'utf-8').read()\n",
        "corpus = data.lower().split(\"\\n\")\n",
        "\n",
        "tokenizer = Tokenizer() #oov_token=\"<OOV>\"\n",
        "tokenizer.fit_on_texts(corpus)\n",
        "\n",
        "total_words = len(tokenizer.word_index) + 1\n",
        "\n",
        "# create input sequences using list of tokens\n",
        "input_sequences = []\n",
        "for line in corpus:\n",
        "    token_list = tokenizer.texts_to_sequences([line])[0]\n",
        "    for i in range(1, len(token_list)):\n",
        "        n_gram_sequence = token_list[:i+1]\n",
        "        input_sequences.append(n_gram_sequence)\n",
        "\n",
        "# pad sequences \n",
        "max_sequence_len = max([len(x) for x in input_sequences])\n",
        "input_sequences = np.array(pad_sequences(input_sequences, maxlen=max_sequence_len, padding='pre'))\n",
        "\n",
        "\n",
        "\n",
        "# create predictors and label\n",
        "predictors, label = input_sequences[:,:-1],input_sequences[:,-1]\n",
        "\n",
        "label = ku.to_categorical(label, num_classes=total_words)"
      ],
      "id": "68e02cb0-1e63-4a0b-8b4d-bc066ff068f7",
      "execution_count": 4,
      "outputs": []
    },
    {
      "cell_type": "code",
      "metadata": {
        "id": "e72b025d-4308-4203-b0e0-a617d3cbe354",
        "outputId": "7be1e5fa-01c8-4058-bc7a-d79613be0250"
      },
      "source": [
        "#Some code for debugging \n",
        "\n",
        "'''\n",
        "word_index = tokenizer.word_index\n",
        "print(word_index)\n",
        "'''\n",
        "\n",
        "'''\n",
        "print(input_sequences[3])\n",
        "print(input_sequences.shape)\n",
        "'''"
      ],
      "id": "e72b025d-4308-4203-b0e0-a617d3cbe354",
      "execution_count": null,
      "outputs": [
        {
          "output_type": "stream",
          "text": [
            "[ 0  0  0  0  0  0  0  0  0  0  0  0  0  0  0  0 16  1]\n",
            "(8613, 18)\n"
          ],
          "name": "stdout"
        }
      ]
    },
    {
      "cell_type": "markdown",
      "metadata": {
        "id": "0fdd2741-249d-435f-b36f-c5294cf99980"
      },
      "source": [
        "## Initialize NN model (for this code to run it was needed to downgrade to numpy version == 1.18.5"
      ],
      "id": "0fdd2741-249d-435f-b36f-c5294cf99980"
    },
    {
      "cell_type": "code",
      "metadata": {
        "colab": {
          "base_uri": "https://localhost:8080/"
        },
        "id": "238201d6-e013-49ec-9e9f-8fa84f39e91f",
        "outputId": "c4d519e4-eb09-4807-d0e1-2f1974f7759e"
      },
      "source": [
        "model = Sequential()\n",
        "model.add(Embedding(total_words, 128, input_length=max_sequence_len - 1))\n",
        "model.add(Bidirectional(LSTM(120, return_sequences=True)))\n",
        "model.add(Dropout(0.2))\n",
        "model.add(LSTM(96))\n",
        "model.add(Dense(total_words/2, activation='relu', kernel_regularizer=regularizers.l2(0.01)))\n",
        "model.add(Dense(total_words, activation='softmax'))\n",
        "\n",
        "\n",
        "model.compile(\n",
        "    loss='categorical_crossentropy',\n",
        "    optimizer='adam',\n",
        "    metrics=['accuracy']\n",
        ")\n",
        "\n",
        "print(model.summary())"
      ],
      "id": "238201d6-e013-49ec-9e9f-8fa84f39e91f",
      "execution_count": 5,
      "outputs": [
        {
          "output_type": "stream",
          "text": [
            "Model: \"sequential\"\n",
            "_________________________________________________________________\n",
            "Layer (type)                 Output Shape              Param #   \n",
            "=================================================================\n",
            "embedding (Embedding)        (None, 17, 128)           288896    \n",
            "_________________________________________________________________\n",
            "bidirectional (Bidirectional (None, 17, 240)           239040    \n",
            "_________________________________________________________________\n",
            "dropout (Dropout)            (None, 17, 240)           0         \n",
            "_________________________________________________________________\n",
            "lstm_1 (LSTM)                (None, 96)                129408    \n",
            "_________________________________________________________________\n",
            "dense (Dense)                (None, 1128)              109416    \n",
            "_________________________________________________________________\n",
            "dense_1 (Dense)              (None, 2257)              2548153   \n",
            "=================================================================\n",
            "Total params: 3,314,913\n",
            "Trainable params: 3,314,913\n",
            "Non-trainable params: 0\n",
            "_________________________________________________________________\n",
            "None\n"
          ],
          "name": "stdout"
        }
      ]
    },
    {
      "cell_type": "code",
      "metadata": {
        "colab": {
          "base_uri": "https://localhost:8080/"
        },
        "id": "e38bc3ab-d180-47e6-b427-b3980d4f723e",
        "outputId": "6173f15b-21a4-4f27-c844-01f6faf2dcd4"
      },
      "source": [
        "history = model.fit(predictors, label, epochs=100, verbose=1)\n"
      ],
      "id": "e38bc3ab-d180-47e6-b427-b3980d4f723e",
      "execution_count": 7,
      "outputs": [
        {
          "output_type": "stream",
          "text": [
            "Epoch 1/100\n",
            "270/270 [==============================] - 7s 13ms/step - loss: 6.8635 - accuracy: 0.0399\n",
            "Epoch 2/100\n",
            "270/270 [==============================] - 3s 12ms/step - loss: 6.2767 - accuracy: 0.0426\n",
            "Epoch 3/100\n",
            "270/270 [==============================] - 3s 12ms/step - loss: 6.1754 - accuracy: 0.0424\n",
            "Epoch 4/100\n",
            "270/270 [==============================] - 3s 12ms/step - loss: 6.0548 - accuracy: 0.0512\n",
            "Epoch 5/100\n",
            "270/270 [==============================] - 4s 13ms/step - loss: 5.9363 - accuracy: 0.0551\n",
            "Epoch 6/100\n",
            "270/270 [==============================] - 4s 13ms/step - loss: 5.8511 - accuracy: 0.0604\n",
            "Epoch 7/100\n",
            "270/270 [==============================] - 4s 14ms/step - loss: 5.7796 - accuracy: 0.0665\n",
            "Epoch 8/100\n",
            "270/270 [==============================] - 4s 14ms/step - loss: 5.6978 - accuracy: 0.0686\n",
            "Epoch 9/100\n",
            "270/270 [==============================] - 4s 14ms/step - loss: 5.6093 - accuracy: 0.0723\n",
            "Epoch 10/100\n",
            "270/270 [==============================] - 4s 14ms/step - loss: 5.5345 - accuracy: 0.0749\n",
            "Epoch 11/100\n",
            "270/270 [==============================] - 4s 14ms/step - loss: 5.4548 - accuracy: 0.0771\n",
            "Epoch 12/100\n",
            "270/270 [==============================] - 4s 13ms/step - loss: 5.3806 - accuracy: 0.0853\n",
            "Epoch 13/100\n",
            "270/270 [==============================] - 4s 14ms/step - loss: 5.3142 - accuracy: 0.0888\n",
            "Epoch 14/100\n",
            "270/270 [==============================] - 4s 14ms/step - loss: 5.2415 - accuracy: 0.0936\n",
            "Epoch 15/100\n",
            "270/270 [==============================] - 4s 14ms/step - loss: 5.1700 - accuracy: 0.0978\n",
            "Epoch 16/100\n",
            "270/270 [==============================] - 4s 13ms/step - loss: 5.1072 - accuracy: 0.1019\n",
            "Epoch 17/100\n",
            "270/270 [==============================] - 4s 13ms/step - loss: 5.0408 - accuracy: 0.1028\n",
            "Epoch 18/100\n",
            "270/270 [==============================] - 4s 13ms/step - loss: 4.9743 - accuracy: 0.1110\n",
            "Epoch 19/100\n",
            "270/270 [==============================] - 3s 12ms/step - loss: 4.9164 - accuracy: 0.1170\n",
            "Epoch 20/100\n",
            "270/270 [==============================] - 3s 12ms/step - loss: 4.8449 - accuracy: 0.1245\n",
            "Epoch 21/100\n",
            "270/270 [==============================] - 3s 13ms/step - loss: 4.7759 - accuracy: 0.1313\n",
            "Epoch 22/100\n",
            "270/270 [==============================] - 3s 12ms/step - loss: 4.7194 - accuracy: 0.1335\n",
            "Epoch 23/100\n",
            "270/270 [==============================] - 4s 14ms/step - loss: 4.6523 - accuracy: 0.1443\n",
            "Epoch 24/100\n",
            "270/270 [==============================] - 4s 13ms/step - loss: 4.5943 - accuracy: 0.1485\n",
            "Epoch 25/100\n",
            "270/270 [==============================] - 4s 13ms/step - loss: 4.5306 - accuracy: 0.1569\n",
            "Epoch 26/100\n",
            "270/270 [==============================] - 4s 13ms/step - loss: 4.4641 - accuracy: 0.1634\n",
            "Epoch 27/100\n",
            "270/270 [==============================] - 4s 13ms/step - loss: 4.3988 - accuracy: 0.1684\n",
            "Epoch 28/100\n",
            "270/270 [==============================] - 4s 13ms/step - loss: 4.3419 - accuracy: 0.1733\n",
            "Epoch 29/100\n",
            "270/270 [==============================] - 4s 13ms/step - loss: 4.2846 - accuracy: 0.1787\n",
            "Epoch 30/100\n",
            "270/270 [==============================] - 3s 13ms/step - loss: 4.2351 - accuracy: 0.1818\n",
            "Epoch 31/100\n",
            "270/270 [==============================] - 3s 13ms/step - loss: 4.1789 - accuracy: 0.1875\n",
            "Epoch 32/100\n",
            "270/270 [==============================] - 3s 12ms/step - loss: 4.1181 - accuracy: 0.2007\n",
            "Epoch 33/100\n",
            "270/270 [==============================] - 3s 12ms/step - loss: 4.0639 - accuracy: 0.2047\n",
            "Epoch 34/100\n",
            "270/270 [==============================] - 3s 13ms/step - loss: 4.0085 - accuracy: 0.2082\n",
            "Epoch 35/100\n",
            "270/270 [==============================] - 3s 12ms/step - loss: 3.9580 - accuracy: 0.2157\n",
            "Epoch 36/100\n",
            "270/270 [==============================] - 3s 12ms/step - loss: 3.8969 - accuracy: 0.2237\n",
            "Epoch 37/100\n",
            "270/270 [==============================] - 3s 12ms/step - loss: 3.8460 - accuracy: 0.2300\n",
            "Epoch 38/100\n",
            "270/270 [==============================] - 3s 12ms/step - loss: 3.7979 - accuracy: 0.2374\n",
            "Epoch 39/100\n",
            "270/270 [==============================] - 3s 12ms/step - loss: 3.7458 - accuracy: 0.2452\n",
            "Epoch 40/100\n",
            "270/270 [==============================] - 3s 12ms/step - loss: 3.6950 - accuracy: 0.2500\n",
            "Epoch 41/100\n",
            "270/270 [==============================] - 3s 12ms/step - loss: 3.6533 - accuracy: 0.2582\n",
            "Epoch 42/100\n",
            "270/270 [==============================] - 4s 13ms/step - loss: 3.5970 - accuracy: 0.2632\n",
            "Epoch 43/100\n",
            "270/270 [==============================] - 4s 14ms/step - loss: 3.5403 - accuracy: 0.2726\n",
            "Epoch 44/100\n",
            "270/270 [==============================] - 4s 13ms/step - loss: 3.5016 - accuracy: 0.2789\n",
            "Epoch 45/100\n",
            "270/270 [==============================] - 4s 13ms/step - loss: 3.4463 - accuracy: 0.2870\n",
            "Epoch 46/100\n",
            "270/270 [==============================] - 4s 13ms/step - loss: 3.4114 - accuracy: 0.2935\n",
            "Epoch 47/100\n",
            "270/270 [==============================] - 4s 13ms/step - loss: 3.3631 - accuracy: 0.2985\n",
            "Epoch 48/100\n",
            "270/270 [==============================] - 4s 14ms/step - loss: 3.3167 - accuracy: 0.3105\n",
            "Epoch 49/100\n",
            "270/270 [==============================] - 4s 13ms/step - loss: 3.2699 - accuracy: 0.3244\n",
            "Epoch 50/100\n",
            "270/270 [==============================] - 4s 13ms/step - loss: 3.2352 - accuracy: 0.3236\n",
            "Epoch 51/100\n",
            "270/270 [==============================] - 4s 13ms/step - loss: 3.1927 - accuracy: 0.3318\n",
            "Epoch 52/100\n",
            "270/270 [==============================] - 3s 12ms/step - loss: 3.1531 - accuracy: 0.3389\n",
            "Epoch 53/100\n",
            "270/270 [==============================] - 3s 12ms/step - loss: 3.1067 - accuracy: 0.3511\n",
            "Epoch 54/100\n",
            "270/270 [==============================] - 3s 12ms/step - loss: 3.0652 - accuracy: 0.3610\n",
            "Epoch 55/100\n",
            "270/270 [==============================] - 3s 13ms/step - loss: 3.0214 - accuracy: 0.3699\n",
            "Epoch 56/100\n",
            "270/270 [==============================] - 3s 13ms/step - loss: 2.9740 - accuracy: 0.3761\n",
            "Epoch 57/100\n",
            "270/270 [==============================] - 3s 12ms/step - loss: 2.9464 - accuracy: 0.3784\n",
            "Epoch 58/100\n",
            "270/270 [==============================] - 3s 12ms/step - loss: 2.9052 - accuracy: 0.3938\n",
            "Epoch 59/100\n",
            "270/270 [==============================] - 3s 12ms/step - loss: 2.8763 - accuracy: 0.3960\n",
            "Epoch 60/100\n",
            "270/270 [==============================] - 3s 12ms/step - loss: 2.8732 - accuracy: 0.3960\n",
            "Epoch 61/100\n",
            "270/270 [==============================] - 4s 13ms/step - loss: 2.7994 - accuracy: 0.4110\n",
            "Epoch 62/100\n",
            "270/270 [==============================] - 4s 13ms/step - loss: 2.7586 - accuracy: 0.4188\n",
            "Epoch 63/100\n",
            "270/270 [==============================] - 4s 13ms/step - loss: 2.7379 - accuracy: 0.4210\n",
            "Epoch 64/100\n",
            "270/270 [==============================] - 4s 13ms/step - loss: 2.6977 - accuracy: 0.4353\n",
            "Epoch 65/100\n",
            "270/270 [==============================] - 4s 14ms/step - loss: 2.6653 - accuracy: 0.4385\n",
            "Epoch 66/100\n",
            "270/270 [==============================] - 4s 14ms/step - loss: 2.6285 - accuracy: 0.4472\n",
            "Epoch 67/100\n",
            "270/270 [==============================] - 4s 14ms/step - loss: 2.5939 - accuracy: 0.4626\n",
            "Epoch 68/100\n",
            "270/270 [==============================] - 4s 13ms/step - loss: 2.5758 - accuracy: 0.4677\n",
            "Epoch 69/100\n",
            "270/270 [==============================] - 3s 13ms/step - loss: 2.5359 - accuracy: 0.4739\n",
            "Epoch 70/100\n",
            "270/270 [==============================] - 4s 13ms/step - loss: 2.5200 - accuracy: 0.4718\n",
            "Epoch 71/100\n",
            "270/270 [==============================] - 4s 14ms/step - loss: 2.4887 - accuracy: 0.4860\n",
            "Epoch 72/100\n",
            "270/270 [==============================] - 4s 14ms/step - loss: 2.4556 - accuracy: 0.4896\n",
            "Epoch 73/100\n",
            "270/270 [==============================] - 4s 14ms/step - loss: 2.4298 - accuracy: 0.4990\n",
            "Epoch 74/100\n",
            "270/270 [==============================] - 4s 14ms/step - loss: 2.4057 - accuracy: 0.4989\n",
            "Epoch 75/100\n",
            "270/270 [==============================] - 4s 14ms/step - loss: 2.3888 - accuracy: 0.5077\n",
            "Epoch 76/100\n",
            "270/270 [==============================] - 4s 14ms/step - loss: 2.3518 - accuracy: 0.5122\n",
            "Epoch 77/100\n",
            "270/270 [==============================] - 4s 13ms/step - loss: 2.3189 - accuracy: 0.5237\n",
            "Epoch 78/100\n",
            "270/270 [==============================] - 3s 12ms/step - loss: 2.2919 - accuracy: 0.5304\n",
            "Epoch 79/100\n",
            "270/270 [==============================] - 3s 13ms/step - loss: 2.2613 - accuracy: 0.5379\n",
            "Epoch 80/100\n",
            "270/270 [==============================] - 3s 13ms/step - loss: 2.2473 - accuracy: 0.5394\n",
            "Epoch 81/100\n",
            "270/270 [==============================] - 3s 13ms/step - loss: 2.2265 - accuracy: 0.5456\n",
            "Epoch 82/100\n",
            "270/270 [==============================] - 3s 13ms/step - loss: 2.2022 - accuracy: 0.5523\n",
            "Epoch 83/100\n",
            "270/270 [==============================] - 3s 13ms/step - loss: 2.1816 - accuracy: 0.5575\n",
            "Epoch 84/100\n",
            "270/270 [==============================] - 3s 12ms/step - loss: 2.1596 - accuracy: 0.5609\n",
            "Epoch 85/100\n",
            "270/270 [==============================] - 3s 12ms/step - loss: 2.1477 - accuracy: 0.5614\n",
            "Epoch 86/100\n",
            "270/270 [==============================] - 3s 12ms/step - loss: 2.1203 - accuracy: 0.5652\n",
            "Epoch 87/100\n",
            "270/270 [==============================] - 3s 12ms/step - loss: 2.0813 - accuracy: 0.5778\n",
            "Epoch 88/100\n",
            "270/270 [==============================] - 3s 12ms/step - loss: 2.0572 - accuracy: 0.5876\n",
            "Epoch 89/100\n",
            "270/270 [==============================] - 4s 13ms/step - loss: 2.0418 - accuracy: 0.5835\n",
            "Epoch 90/100\n",
            "270/270 [==============================] - 4s 13ms/step - loss: 2.0509 - accuracy: 0.5842\n",
            "Epoch 91/100\n",
            "270/270 [==============================] - 4s 13ms/step - loss: 2.0057 - accuracy: 0.5942\n",
            "Epoch 92/100\n",
            "270/270 [==============================] - 4s 13ms/step - loss: 1.9810 - accuracy: 0.5996\n",
            "Epoch 93/100\n",
            "270/270 [==============================] - 4s 13ms/step - loss: 1.9819 - accuracy: 0.6014\n",
            "Epoch 94/100\n",
            "270/270 [==============================] - 4s 13ms/step - loss: 1.9565 - accuracy: 0.6061\n",
            "Epoch 95/100\n",
            "270/270 [==============================] - 4s 13ms/step - loss: 1.9344 - accuracy: 0.6097\n",
            "Epoch 96/100\n",
            "270/270 [==============================] - 3s 13ms/step - loss: 1.9126 - accuracy: 0.6137\n",
            "Epoch 97/100\n",
            "270/270 [==============================] - 3s 12ms/step - loss: 1.8919 - accuracy: 0.6178\n",
            "Epoch 98/100\n",
            "270/270 [==============================] - 3s 12ms/step - loss: 1.8880 - accuracy: 0.6208\n",
            "Epoch 99/100\n",
            "270/270 [==============================] - 3s 12ms/step - loss: 1.8632 - accuracy: 0.6288\n",
            "Epoch 100/100\n",
            "270/270 [==============================] - 3s 13ms/step - loss: 1.8394 - accuracy: 0.6307\n"
          ],
          "name": "stdout"
        }
      ]
    },
    {
      "cell_type": "code",
      "metadata": {
        "colab": {
          "base_uri": "https://localhost:8080/",
          "height": 545
        },
        "id": "0cec8a9a-5188-462b-94f8-ecea4f587515",
        "outputId": "dd246044-2a1b-4d37-83de-69f383fc419b"
      },
      "source": [
        "import matplotlib.pyplot as plt\n",
        "acc = history.history['accuracy']\n",
        "loss = history.history['loss']\n",
        "\n",
        "epochs = range(len(acc))\n",
        "\n",
        "plt.plot(epochs, acc, 'b', label='Training accuracy')\n",
        "plt.title('Training accuracy')\n",
        "\n",
        "plt.figure()\n",
        "\n",
        "plt.plot(epochs, loss, 'b', label='Training Loss')\n",
        "plt.title('Training loss')\n",
        "plt.legend()\n",
        "\n",
        "plt.show()"
      ],
      "id": "0cec8a9a-5188-462b-94f8-ecea4f587515",
      "execution_count": 8,
      "outputs": [
        {
          "output_type": "display_data",
          "data": {
            "image/png": "[encoded data removed]",
            "text/plain": [
              "<Figure size 432x288 with 1 Axes>"
            ]
          },
          "metadata": {
            "tags": [],
            "needs_background": "light"
          }
        },
        {
          "output_type": "display_data",
          "data": {
            "image/png": "[encoded data removed]",
            "text/plain": [
              "<Figure size 432x288 with 1 Axes>"
            ]
          },
          "metadata": {
            "tags": [],
            "needs_background": "light"
          }
        }
      ]
    },
    {
      "cell_type": "code",
      "metadata": {
        "colab": {
          "base_uri": "https://localhost:8080/"
        },
        "id": "5b68a5b9-96f6-43ea-8171-97efbd995048",
        "outputId": "e868a348-cb90-46a2-b9a2-b491080d3626"
      },
      "source": [
        "seed_text = \"\"\n",
        "next_words = 6\n",
        "  \n",
        "for _ in range(next_words):\n",
        "    token_list = tokenizer.texts_to_sequences([seed_text])[0]\n",
        "    token_list = pad_sequences([token_list], maxlen=max_sequence_len-1, padding='pre')\n",
        "    predicted = model.predict_classes(token_list, verbose=0)\n",
        "    output_word = \"\"\n",
        "    for word, index in tokenizer.word_index.items():\n",
        "        if index == predicted:\n",
        "            output_word = word\n",
        "            break\n",
        "    seed_text += \" \" + output_word\n",
        "\n",
        "print(seed_text)"
      ],
      "id": "5b68a5b9-96f6-43ea-8171-97efbd995048",
      "execution_count": 29,
      "outputs": [
        {
          "output_type": "stream",
          "text": [
            "/usr/local/lib/python3.7/dist-packages/tensorflow/python/keras/engine/sequential.py:455: UserWarning: `model.predict_classes()` is deprecated and will be removed after 2021-01-01. Please use instead:* `np.argmax(model.predict(x), axis=-1)`,   if your model does multi-class classification   (e.g. if it uses a `softmax` last-layer activation).* `(model.predict(x) > 0.5).astype(\"int32\")`,   if your model does binary classification   (e.g. if it uses a `sigmoid` last-layer activation).\n",
            "  warnings.warn('`model.predict_classes()` is deprecated and '\n"
          ],
          "name": "stderr"
        },
        {
          "output_type": "stream",
          "text": [
            "το πανεπηστίμιο σκοτάδι το φεγγάρι πως φωτίζουν μια\n"
          ],
          "name": "stdout"
        }
      ]
    },
    {
      "cell_type": "code",
      "metadata": {
        "id": "3BNpBkxWQDin"
      },
      "source": [
        "#Save the model\n",
        "model.save('greekLyrics.h5')"
      ],
      "id": "3BNpBkxWQDin",
      "execution_count": 30,
      "outputs": []
    },
    {
      "cell_type": "code",
      "metadata": {
        "id": "07GosyJ-QSWB"
      },
      "source": [
        "#Load the model\n",
        "model = tf.keras.models.load_model('greekLyrics.h5')"
      ],
      "id": "07GosyJ-QSWB",
      "execution_count": null,
      "outputs": []
    }
  ]
}