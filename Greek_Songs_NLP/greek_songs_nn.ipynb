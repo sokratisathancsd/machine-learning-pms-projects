{
 "cells": [
  {
   "cell_type": "markdown",
   "id": "74da87bc-037c-449f-bca0-3c27d1c072cd",
   "metadata": {},
   "source": [
    "Get Data from URL, cleanse the data, and write data to 'lyrics.txt' file"
   ]
  },
  {
   "cell_type": "code",
   "execution_count": 14,
   "id": "e8b2a38b-c91b-4a51-b05b-1a95612d56be",
   "metadata": {},
   "outputs": [],
   "source": [
    "import requests\n",
    "from bs4 import BeautifulSoup\n",
    "import re\n",
    "import os\n",
    "import codecs\n",
    "\n",
    "url = 'https://stixoi.info/stixoi.php?info=Lyrics&act=index&sort=alpha&singer_id=1820'\n",
    "page = requests.get(url)\n",
    "soup = BeautifulSoup(page.content, 'html.parser')\n",
    "\n",
    "f = open('lyrics.txt', 'w', encoding='utf-8')\n",
    "tempsoup = soup.find_all('td', class_='row1') \n",
    "for i in range(1, 622, 9):\n",
    "    link = str(tempsoup[i].find('a'))\n",
    "    song_id = re.search('(?<=song_id=)(.*)(?=\")', link)\n",
    "    song_id = song_id.group()\n",
    "    song_lyrics_url = \"https://stixoi.info/stixoi.php?info=Lyrics&act=details&song_id=\"+song_id\n",
    "    page = requests.get(song_lyrics_url)\n",
    "    soup = BeautifulSoup(page.content, 'html.parser')\n",
    "    lyrics = soup.find_all('div', class_='lyrics')\n",
    "    lyrics = lyrics[0].get_text()\n",
    "    \n",
    "    #Remove empty lines from final lyrics\n",
    "    lyrics = os.linesep.join([s for s in lyrics.splitlines() if s])\n",
    "    f.write(lyrics)\n",
    "\n",
    "f.close()"
   ]
  },
  {
   "cell_type": "markdown",
   "id": "9e8f1df7-4a42-4cc2-8486-f1e8c72bf0a3",
   "metadata": {},
   "source": [
    "Import tensorflow libraries and numpy"
   ]
  },
  {
   "cell_type": "code",
   "execution_count": 2,
   "id": "811958dc-6875-4a7e-8d0c-dfda12325a1d",
   "metadata": {},
   "outputs": [],
   "source": [
    "from tensorflow.keras.preprocessing.sequence import pad_sequences\n",
    "from tensorflow.keras.layers import Embedding, LSTM, Dense, Dropout, Bidirectional\n",
    "from tensorflow.keras.preprocessing.text import Tokenizer\n",
    "from tensorflow.keras.models import Sequential\n",
    "from tensorflow.keras.optimizers import Adam\n",
    "from tensorflow.keras import regularizers\n",
    "import tensorflow.keras.utils as ku \n",
    "import numpy as np"
   ]
  },
  {
   "cell_type": "markdown",
   "id": "5b69b2a5-5b4e-45f9-b058-e2f3bfa42a10",
   "metadata": {},
   "source": [
    "Prepare Data"
   ]
  },
  {
   "cell_type": "code",
   "execution_count": 3,
   "id": "68e02cb0-1e63-4a0b-8b4d-bc066ff068f7",
   "metadata": {},
   "outputs": [
    {
     "name": "stdout",
     "output_type": "stream",
     "text": [
      "<keras_preprocessing.text.Tokenizer object at 0x0000015F45261B80>\n"
     ]
    }
   ],
   "source": [
    "data = open('lyrics.txt', encoding = 'utf-8').read()\n",
    "corpus = data.lower().split(\"\\n\")\n",
    "\n",
    "tokenizer = Tokenizer() #oov_token=\"<OOV>\"\n",
    "tokenizer.fit_on_texts(corpus)\n",
    "\n",
    "total_words = len(tokenizer.word_index) + 1\n",
    "\n",
    "# create input sequences using list of tokens\n",
    "input_sequences = []\n",
    "for line in corpus:\n",
    "    token_list = tokenizer.texts_to_sequences([line])[0]\n",
    "    for i in range(1, len(token_list)):\n",
    "        n_gram_sequence = token_list[:i+1]\n",
    "        input_sequences.append(n_gram_sequence)\n",
    "\n",
    "# pad sequences \n",
    "max_sequence_len = max([len(x) for x in input_sequences])\n",
    "input_sequences = np.array(pad_sequences(input_sequences, maxlen=max_sequence_len, padding='pre'))\n",
    "\n",
    "# create predictors and label\n",
    "predictors, label = input_sequences[:,:-1],input_sequences[:,-1]\n",
    "\n",
    "label = ku.to_categorical(label, num_classes=total_words)"
   ]
  },
  {
   "cell_type": "code",
   "execution_count": 11,
   "id": "e72b025d-4308-4203-b0e0-a617d3cbe354",
   "metadata": {},
   "outputs": [
    {
     "name": "stdout",
     "output_type": "stream",
     "text": [
      "[ 0  0  0  0  0  0  0  0  0  0  0  0  0  0  0  0 16  1]\n",
      "(8613, 18)\n"
     ]
    }
   ],
   "source": [
    "#Some code for debugging \n",
    "\n",
    "'''\n",
    "word_index = tokenizer.word_index\n",
    "print(word_index)\n",
    "'''\n",
    "\n",
    "'''\n",
    "print(input_sequences[3])\n",
    "print(input_sequences.shape)\n",
    "'''"
   ]
  },
  {
   "cell_type": "markdown",
   "id": "0fdd2741-249d-435f-b36f-c5294cf99980",
   "metadata": {},
   "source": [
    "## Initialize NN model (for this code to run it was needed to downgrade to numpy version == 1.18.5"
   ]
  },
  {
   "cell_type": "code",
   "execution_count": 5,
   "id": "238201d6-e013-49ec-9e9f-8fa84f39e91f",
   "metadata": {},
   "outputs": [
    {
     "name": "stdout",
     "output_type": "stream",
     "text": [
      "Model: \"sequential_1\"\n",
      "_________________________________________________________________\n",
      "Layer (type)                 Output Shape              Param #   \n",
      "=================================================================\n",
      "embedding_1 (Embedding)      (None, 17, 128)           288896    \n",
      "_________________________________________________________________\n",
      "bidirectional_1 (Bidirection (None, 17, 240)           239040    \n",
      "_________________________________________________________________\n",
      "dropout_1 (Dropout)          (None, 17, 240)           0         \n",
      "_________________________________________________________________\n",
      "lstm_3 (LSTM)                (None, 96)                129408    \n",
      "_________________________________________________________________\n",
      "dense_2 (Dense)              (None, 1128)              109416    \n",
      "_________________________________________________________________\n",
      "dense_3 (Dense)              (None, 2257)              2548153   \n",
      "=================================================================\n",
      "Total params: 3,314,913\n",
      "Trainable params: 3,314,913\n",
      "Non-trainable params: 0\n",
      "_________________________________________________________________\n",
      "None\n"
     ]
    }
   ],
   "source": [
    "model = Sequential()\n",
    "model.add(Embedding(total_words, 128, input_length=max_sequence_len - 1))\n",
    "model.add(Bidirectional(LSTM(120, return_sequences=True)))\n",
    "model.add(Dropout(0.2))\n",
    "model.add(LSTM(96))\n",
    "model.add(Dense(total_words/2, activation='relu', kernel_regularizer=regularizers.l2(0.01)))\n",
    "model.add(Dense(total_words, activation='softmax'))\n",
    "\n",
    "\n",
    "model.compile(\n",
    "    loss='categorical_crossentropy',\n",
    "    optimizer='adam',\n",
    "    metrics=['accuracy']\n",
    ")\n",
    "\n",
    "print(model.summary())"
   ]
  },
  {
   "cell_type": "code",
   "execution_count": 6,
   "id": "e38bc3ab-d180-47e6-b427-b3980d4f723e",
   "metadata": {},
   "outputs": [
    {
     "name": "stdout",
     "output_type": "stream",
     "text": [
      "Epoch 1/100\n",
      "270/270 [==============================] - 29s 107ms/step - loss: 6.8949 - accuracy: 0.0424\n",
      "Epoch 2/100\n",
      "270/270 [==============================] - 26s 97ms/step - loss: 6.2768 - accuracy: 0.0414\n",
      "Epoch 3/100\n",
      "270/270 [==============================] - 28s 102ms/step - loss: 6.1551 - accuracy: 0.0432s - loss: 6\n",
      "Epoch 4/100\n",
      "270/270 [==============================] - 25s 94ms/step - loss: 6.0116 - accuracy: 0.0482\n",
      "Epoch 5/100\n",
      "270/270 [==============================] - 27s 99ms/step - loss: 5.9193 - accuracy: 0.0545\n",
      "Epoch 6/100\n",
      "270/270 [==============================] - 25s 92ms/step - loss: 5.8464 - accuracy: 0.0598\n",
      "Epoch 7/100\n",
      "270/270 [==============================] - 26s 95ms/step - loss: 5.7760 - accuracy: 0.0639\n",
      "Epoch 8/100\n",
      "270/270 [==============================] - 22s 82ms/step - loss: 5.7145 - accuracy: 0.0687\n",
      "Epoch 9/100\n",
      "270/270 [==============================] - 23s 84ms/step - loss: 5.6445 - accuracy: 0.0715\n",
      "Epoch 10/100\n",
      "270/270 [==============================] - 23s 85ms/step - loss: 5.5710 - accuracy: 0.0713\n",
      "Epoch 11/100\n",
      "270/270 [==============================] - 23s 85ms/step - loss: 5.5134 - accuracy: 0.0772\n",
      "Epoch 12/100\n",
      "270/270 [==============================] - 23s 85ms/step - loss: 5.4420 - accuracy: 0.0765\n",
      "Epoch 13/100\n",
      "270/270 [==============================] - 23s 85ms/step - loss: 5.3755 - accuracy: 0.0815\n",
      "Epoch 14/100\n",
      "270/270 [==============================] - 22s 82ms/step - loss: 5.3057 - accuracy: 0.0850\n",
      "Epoch 15/100\n",
      "270/270 [==============================] - 22s 80ms/step - loss: 5.2351 - accuracy: 0.0911\n",
      "Epoch 16/100\n",
      "270/270 [==============================] - 22s 83ms/step - loss: 5.1615 - accuracy: 0.0972\n",
      "Epoch 17/100\n",
      "270/270 [==============================] - 22s 80ms/step - loss: 5.1013 - accuracy: 0.0978\n",
      "Epoch 18/100\n",
      "270/270 [==============================] - 23s 84ms/step - loss: 5.0335 - accuracy: 0.10370s - loss: 5.030\n",
      "Epoch 19/100\n",
      "270/270 [==============================] - 22s 80ms/step - loss: 4.9674 - accuracy: 0.1070\n",
      "Epoch 20/100\n",
      "270/270 [==============================] - 22s 81ms/step - loss: 4.9034 - accuracy: 0.1129\n",
      "Epoch 21/100\n",
      "270/270 [==============================] - 22s 82ms/step - loss: 4.8505 - accuracy: 0.1167\n",
      "Epoch 22/100\n",
      "270/270 [==============================] - 22s 81ms/step - loss: 4.8031 - accuracy: 0.1187\n",
      "Epoch 23/100\n",
      "270/270 [==============================] - 22s 81ms/step - loss: 4.7197 - accuracy: 0.1270\n",
      "Epoch 24/100\n",
      "270/270 [==============================] - 22s 83ms/step - loss: 4.6543 - accuracy: 0.1310\n",
      "Epoch 25/100\n",
      "270/270 [==============================] - 22s 82ms/step - loss: 4.6031 - accuracy: 0.1319\n",
      "Epoch 26/100\n",
      "270/270 [==============================] - 22s 82ms/step - loss: 4.5381 - accuracy: 0.1422\n",
      "Epoch 27/100\n",
      "270/270 [==============================] - 25s 93ms/step - loss: 4.4802 - accuracy: 0.1464\n",
      "Epoch 28/100\n",
      "270/270 [==============================] - 26s 97ms/step - loss: 4.4184 - accuracy: 0.14770s - loss: 4.4204 - accura\n",
      "Epoch 29/100\n",
      "270/270 [==============================] - 25s 93ms/step - loss: 4.3646 - accuracy: 0.1544\n",
      "Epoch 30/100\n",
      "270/270 [==============================] - 26s 97ms/step - loss: 4.2953 - accuracy: 0.1609\n",
      "Epoch 31/100\n",
      "270/270 [==============================] - 27s 99ms/step - loss: 4.2326 - accuracy: 0.1708\n",
      "Epoch 32/100\n",
      "270/270 [==============================] - 27s 99ms/step - loss: 4.1785 - accuracy: 0.1791\n",
      "Epoch 33/100\n",
      "270/270 [==============================] - 26s 96ms/step - loss: 4.1082 - accuracy: 0.1882\n",
      "Epoch 34/100\n",
      "270/270 [==============================] - 26s 96ms/step - loss: 4.0593 - accuracy: 0.19302s - loss: 4 - ETA: 1s - los\n",
      "Epoch 35/100\n",
      "270/270 [==============================] - 26s 96ms/step - loss: 3.9921 - accuracy: 0.2028TA: 0s - loss: 3.9899 - accu\n",
      "Epoch 36/100\n",
      "270/270 [==============================] - 26s 95ms/step - loss: 3.9421 - accuracy: 0.2063\n",
      "Epoch 37/100\n",
      "270/270 [==============================] - 26s 96ms/step - loss: 3.8801 - accuracy: 0.21791s\n",
      "Epoch 38/100\n",
      "270/270 [==============================] - 25s 94ms/step - loss: 3.8229 - accuracy: 0.2268\n",
      "Epoch 39/100\n",
      "270/270 [==============================] - 25s 94ms/step - loss: 3.7721 - accuracy: 0.2336:\n",
      "Epoch 40/100\n",
      "270/270 [==============================] - 25s 94ms/step - loss: 3.7100 - accuracy: 0.2456\n",
      "Epoch 41/100\n",
      "270/270 [==============================] - 26s 95ms/step - loss: 3.6633 - accuracy: 0.25571s - los\n",
      "Epoch 42/100\n",
      "270/270 [==============================] - 26s 97ms/step - loss: 3.6117 - accuracy: 0.2603\n",
      "Epoch 43/100\n",
      "270/270 [==============================] - 24s 89ms/step - loss: 3.5464 - accuracy: 0.2737\n",
      "Epoch 44/100\n",
      "270/270 [==============================] - 24s 90ms/step - loss: 3.5018 - accuracy: 0.2811\n",
      "Epoch 45/100\n",
      "270/270 [==============================] - 24s 89ms/step - loss: 3.4540 - accuracy: 0.2917\n",
      "Epoch 46/100\n",
      "270/270 [==============================] - 24s 89ms/step - loss: 3.3963 - accuracy: 0.3014\n",
      "Epoch 47/100\n",
      "270/270 [==============================] - 25s 91ms/step - loss: 3.3487 - accuracy: 0.3100\n",
      "Epoch 48/100\n",
      "270/270 [==============================] - 24s 90ms/step - loss: 3.2954 - accuracy: 0.3158\n",
      "Epoch 49/100\n",
      "270/270 [==============================] - 24s 89ms/step - loss: 3.2497 - accuracy: 0.3273\n",
      "Epoch 50/100\n",
      "270/270 [==============================] - 24s 89ms/step - loss: 3.2098 - accuracy: 0.3348\n",
      "Epoch 51/100\n",
      "270/270 [==============================] - 24s 89ms/step - loss: 3.1477 - accuracy: 0.3432\n",
      "Epoch 52/100\n",
      "270/270 [==============================] - 24s 88ms/step - loss: 3.1094 - accuracy: 0.3574\n",
      "Epoch 53/100\n",
      "270/270 [==============================] - 24s 89ms/step - loss: 3.0604 - accuracy: 0.3687\n",
      "Epoch 54/100\n",
      "270/270 [==============================] - 24s 88ms/step - loss: 3.0280 - accuracy: 0.3730\n",
      "Epoch 55/100\n",
      "270/270 [==============================] - 25s 92ms/step - loss: 2.9876 - accuracy: 0.3827\n",
      "Epoch 56/100\n",
      "270/270 [==============================] - 23s 84ms/step - loss: 2.9332 - accuracy: 0.3935\n",
      "Epoch 57/100\n",
      "270/270 [==============================] - 23s 85ms/step - loss: 2.8958 - accuracy: 0.4022\n",
      "Epoch 58/100\n",
      "270/270 [==============================] - 21s 79ms/step - loss: 2.8459 - accuracy: 0.4124\n",
      "Epoch 59/100\n",
      "270/270 [==============================] - 22s 83ms/step - loss: 2.8178 - accuracy: 0.4209\n",
      "Epoch 60/100\n",
      "270/270 [==============================] - 25s 92ms/step - loss: 2.7761 - accuracy: 0.4268\n",
      "Epoch 61/100\n",
      "270/270 [==============================] - 26s 94ms/step - loss: 2.7367 - accuracy: 0.4375\n",
      "Epoch 62/100\n",
      "270/270 [==============================] - 24s 89ms/step - loss: 2.7024 - accuracy: 0.4419\n",
      "Epoch 63/100\n",
      "270/270 [==============================] - 24s 88ms/step - loss: 2.6738 - accuracy: 0.4498\n",
      "Epoch 64/100\n",
      "270/270 [==============================] - 24s 87ms/step - loss: 2.6312 - accuracy: 0.4581\n",
      "Epoch 65/100\n",
      "270/270 [==============================] - 24s 87ms/step - loss: 2.5930 - accuracy: 0.4663\n",
      "Epoch 66/100\n",
      "270/270 [==============================] - 24s 88ms/step - loss: 2.5634 - accuracy: 0.4742\n",
      "Epoch 67/100\n",
      "270/270 [==============================] - 24s 89ms/step - loss: 2.5155 - accuracy: 0.4844\n",
      "Epoch 68/100\n",
      "270/270 [==============================] - 24s 87ms/step - loss: 2.4901 - accuracy: 0.4873\n",
      "Epoch 69/100\n",
      "270/270 [==============================] - 24s 88ms/step - loss: 2.4690 - accuracy: 0.4974\n",
      "Epoch 70/100\n",
      "270/270 [==============================] - 23s 87ms/step - loss: 2.4408 - accuracy: 0.5025\n",
      "Epoch 71/100\n",
      "270/270 [==============================] - 24s 88ms/step - loss: 2.3943 - accuracy: 0.5164\n",
      "Epoch 72/100\n",
      "270/270 [==============================] - 24s 88ms/step - loss: 2.3693 - accuracy: 0.5170\n",
      "Epoch 73/100\n",
      "270/270 [==============================] - 24s 89ms/step - loss: 2.3412 - accuracy: 0.53022s - ETA: 1s\n",
      "Epoch 74/100\n",
      "270/270 [==============================] - 24s 87ms/step - loss: 2.3033 - accuracy: 0.5340\n",
      "Epoch 75/100\n",
      "270/270 [==============================] - 24s 88ms/step - loss: 2.2706 - accuracy: 0.5437\n",
      "Epoch 76/100\n",
      "270/270 [==============================] - 24s 87ms/step - loss: 2.2540 - accuracy: 0.5498\n",
      "Epoch 77/100\n",
      "270/270 [==============================] - 24s 88ms/step - loss: 2.2164 - accuracy: 0.5566\n",
      "Epoch 78/100\n",
      "270/270 [==============================] - 25s 91ms/step - loss: 2.2027 - accuracy: 0.5595\n",
      "Epoch 79/100\n",
      "270/270 [==============================] - 24s 88ms/step - loss: 2.1803 - accuracy: 0.5616\n",
      "Epoch 80/100\n",
      "270/270 [==============================] - 24s 88ms/step - loss: 2.1358 - accuracy: 0.5782\n",
      "Epoch 81/100\n",
      "270/270 [==============================] - 24s 89ms/step - loss: 2.1367 - accuracy: 0.5784\n",
      "Epoch 82/100\n",
      "270/270 [==============================] - 24s 88ms/step - loss: 2.1029 - accuracy: 0.5783\n",
      "Epoch 83/100\n",
      "270/270 [==============================] - 24s 88ms/step - loss: 2.0844 - accuracy: 0.5841\n",
      "Epoch 84/100\n",
      "270/270 [==============================] - 24s 88ms/step - loss: 2.0388 - accuracy: 0.5996\n",
      "Epoch 85/100\n",
      "270/270 [==============================] - 24s 90ms/step - loss: 2.0322 - accuracy: 0.5978\n",
      "Epoch 86/100\n",
      "270/270 [==============================] - 24s 88ms/step - loss: 2.0148 - accuracy: 0.5999\n",
      "Epoch 87/100\n",
      "270/270 [==============================] - 24s 88ms/step - loss: 1.9876 - accuracy: 0.6114\n",
      "Epoch 88/100\n",
      "270/270 [==============================] - 24s 89ms/step - loss: 1.9616 - accuracy: 0.6167\n",
      "Epoch 89/100\n",
      "270/270 [==============================] - 25s 91ms/step - loss: 1.9400 - accuracy: 0.6185\n",
      "Epoch 90/100\n",
      "270/270 [==============================] - 25s 92ms/step - loss: 1.9199 - accuracy: 0.6249\n",
      "Epoch 91/100\n",
      "270/270 [==============================] - 25s 91ms/step - loss: 1.9006 - accuracy: 0.6286\n",
      "Epoch 92/100\n",
      "270/270 [==============================] - 26s 96ms/step - loss: 1.8982 - accuracy: 0.63160s - loss: 1.897\n",
      "Epoch 93/100\n",
      "270/270 [==============================] - 24s 89ms/step - loss: 1.8532 - accuracy: 0.6386\n",
      "Epoch 94/100\n",
      "270/270 [==============================] - 24s 90ms/step - loss: 1.8358 - accuracy: 0.6440\n",
      "Epoch 95/100\n",
      "270/270 [==============================] - 24s 88ms/step - loss: 1.8129 - accuracy: 0.6475\n",
      "Epoch 96/100\n",
      "270/270 [==============================] - 24s 88ms/step - loss: 1.8069 - accuracy: 0.6493\n",
      "Epoch 97/100\n",
      "270/270 [==============================] - 24s 88ms/step - loss: 1.7923 - accuracy: 0.6529\n",
      "Epoch 98/100\n",
      "270/270 [==============================] - 24s 88ms/step - loss: 1.7712 - accuracy: 0.6595\n",
      "Epoch 99/100\n",
      "270/270 [==============================] - 24s 88ms/step - loss: 1.7561 - accuracy: 0.6638\n",
      "Epoch 100/100\n",
      "270/270 [==============================] - 25s 94ms/step - loss: 1.7354 - accuracy: 0.6653\n"
     ]
    }
   ],
   "source": [
    "history = model.fit(predictors, label, epochs=100, verbose=1)\n"
   ]
  },
  {
   "cell_type": "code",
   "execution_count": 10,
   "id": "0cec8a9a-5188-462b-94f8-ecea4f587515",
   "metadata": {},
   "outputs": [
    {
     "data": {
      "image/png": "[encoded data removed]",
      "text/plain": [
       "<Figure size 432x288 with 1 Axes>"
      ]
     },
     "metadata": {
      "needs_background": "light"
     },
     "output_type": "display_data"
    },
    {
     "data": {
      "image/png": "[encoded data removed]",
      "text/plain": [
       "<Figure size 432x288 with 1 Axes>"
      ]
     },
     "metadata": {
      "needs_background": "light"
     },
     "output_type": "display_data"
    }
   ],
   "source": [
    "import matplotlib.pyplot as plt\n",
    "acc = history.history['accuracy']\n",
    "loss = history.history['loss']\n",
    "\n",
    "epochs = range(len(acc))\n",
    "\n",
    "plt.plot(epochs, acc, 'b', label='Training accuracy')\n",
    "plt.title('Training accuracy')\n",
    "\n",
    "plt.figure()\n",
    "\n",
    "plt.plot(epochs, loss, 'b', label='Training Loss')\n",
    "plt.title('Training loss')\n",
    "plt.legend()\n",
    "\n",
    "plt.show()"
   ]
  },
  {
   "cell_type": "code",
   "execution_count": 18,
   "id": "5b68a5b9-96f6-43ea-8171-97efbd995048",
   "metadata": {},
   "outputs": [
    {
     "name": "stdout",
     "output_type": "stream",
     "text": [
      "πως θες να αρχίσω τι να προσπαθήσω για μένα να πω ηττήθηκε εσύ λείπει τι δεν υπάρχει το χρονόμετρο νεκρό παν στα αισθήματα άδεια του κεφάλι πνίγοντας θέλησα τρομάζω να όνειρο θα γίνουν μια ζωή μαζί θέλησα ζημιά το χέρι σου ρώτα με φιλιά και πάλι μου όνειρά μη μη σε όνειρο φωτιά στον βυθό φωτιά θέλησα τι να μας έρωτας μου· εσύ μα πόλεμος ζάλη λύση φωτιές από ’δω σαν περνάει ένα παιχνίδι φίλε μου άλλο πράγμα τα γκρεμό σου είμαι με θέλεις να όνειρο θέλησα να μη δεις ζημιά θέλησα εγώ να με λυτρώσουνώρα γκόμενο παν στα αισθήματα άλλο να μας το μυαλό λεν’ θέλησα όλα το κεφάλι για\n"
     ]
    }
   ],
   "source": [
    "seed_text = \"πως θες να αρχίσω τι να προσπαθήσω για μένα να πω\"\n",
    "next_words = 100\n",
    "  \n",
    "for _ in range(next_words):\n",
    "    token_list = tokenizer.texts_to_sequences([seed_text])[0]\n",
    "    token_list = pad_sequences([token_list], maxlen=max_sequence_len-1, padding='pre')\n",
    "    predicted = model.predict_classes(token_list, verbose=0)\n",
    "    output_word = \"\"\n",
    "    for word, index in tokenizer.word_index.items():\n",
    "        if index == predicted:\n",
    "            output_word = word\n",
    "            break\n",
    "    seed_text += \" \" + output_word\n",
    "\n",
    "print(seed_text)"
   ]
  },
  {
   "cell_type": "markdown",
   "id": "2b6525d2-6300-4db3-8f12-8de9f3d9b82f",
   "metadata": {},
   "source": []
  }
 ],
 "metadata": {
  "kernelspec": {
   "display_name": "Python 3",
   "language": "python",
   "name": "python3"
  },
  "language_info": {
   "codemirror_mode": {
    "name": "ipython",
    "version": 3
   },
   "file_extension": ".py",
   "mimetype": "text/x-python",
   "name": "python",
   "nbconvert_exporter": "python",
   "pygments_lexer": "ipython3",
   "version": "3.8.8"
  }
 },
 "nbformat": 4,
 "nbformat_minor": 5
}
