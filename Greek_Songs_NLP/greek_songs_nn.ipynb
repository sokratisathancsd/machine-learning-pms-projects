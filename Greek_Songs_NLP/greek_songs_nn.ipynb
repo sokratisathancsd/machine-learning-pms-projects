{
  "nbformat": 4,
  "nbformat_minor": 5,
  "metadata": {
    "kernelspec": {
      "display_name": "Python 3",
      "language": "python",
      "name": "python3"
    },
    "language_info": {
      "codemirror_mode": {
        "name": "ipython",
        "version": 3
      },
      "file_extension": ".py",
      "mimetype": "text/x-python",
      "name": "python",
      "nbconvert_exporter": "python",
      "pygments_lexer": "ipython3",
      "version": "3.8.8"
    },
    "colab": {
      "name": "greek_songs_nn.ipynb",
      "provenance": [],
      "collapsed_sections": []
    },
    "accelerator": "GPU"
  },
  "cells": [
    {
      "cell_type": "markdown",
      "metadata": {
        "id": "74da87bc-037c-449f-bca0-3c27d1c072cd"
      },
      "source": [
        "Get Data from URL, cleanse the data, and write data to 'lyrics.txt' file"
      ],
      "id": "74da87bc-037c-449f-bca0-3c27d1c072cd"
    },
    {
      "cell_type": "code",
      "metadata": {
        "id": "e8b2a38b-c91b-4a51-b05b-1a95612d56be"
      },
      "source": [
        "import requests\n",
        "from bs4 import BeautifulSoup\n",
        "import re\n",
        "import os\n",
        "import codecs\n",
        "\n",
        "os.remove(\"lyrics.txt\")\n",
        "url = 'https://stixoi.info/stixoi.php?info=Lyrics&act=index&sort=alpha&singer_id=1820'\n",
        "page = requests.get(url)\n",
        "soup = BeautifulSoup(page.content, 'html.parser')\n",
        "\n",
        "f = open('lyrics.txt', 'w', encoding='utf-8')\n",
        "tempsoup = soup.find_all('td', class_='row1') \n",
        "for i in range(1, 622, 9):\n",
        "    link = str(tempsoup[i].find('a'))\n",
        "    song_id = re.search('(?<=song_id=)(.*)(?=\")', link)\n",
        "    song_id = song_id.group()\n",
        "    song_lyrics_url = \"https://stixoi.info/stixoi.php?info=Lyrics&act=details&song_id=\"+song_id\n",
        "    page = requests.get(song_lyrics_url)\n",
        "    soup = BeautifulSoup(page.content, 'html.parser')\n",
        "    lyrics = soup.find_all('div', class_='lyrics')\n",
        "    lyrics = lyrics[0].get_text()\n",
        "    \n",
        "    #Remove empty lines from final lyrics\n",
        "    lyrics = os.linesep.join([s for s in lyrics.splitlines() if s])\n",
        "\n",
        "    lyrics = lyrics.replace(\"\\n\",\"\")\n",
        "    lyrics = re.findall('[Α-Ω][^Α-Ω]*', lyrics)\n",
        "    \n",
        "    for verse in lyrics:\n",
        "      #print(verse)\n",
        "      f.write(verse+ \" \")\n",
        "      f.write(\"\\n\")\n",
        "    \n",
        "f.close()"
      ],
      "id": "e8b2a38b-c91b-4a51-b05b-1a95612d56be",
      "execution_count": 44,
      "outputs": []
    },
    {
      "cell_type": "markdown",
      "metadata": {
        "id": "9e8f1df7-4a42-4cc2-8486-f1e8c72bf0a3"
      },
      "source": [
        "Import tensorflow libraries and numpy"
      ],
      "id": "9e8f1df7-4a42-4cc2-8486-f1e8c72bf0a3"
    },
    {
      "cell_type": "code",
      "metadata": {
        "id": "811958dc-6875-4a7e-8d0c-dfda12325a1d"
      },
      "source": [
        "from tensorflow.keras.preprocessing.sequence import pad_sequences\n",
        "from tensorflow.keras.layers import Embedding, LSTM, Dense, Dropout, Bidirectional\n",
        "from tensorflow.keras.preprocessing.text import Tokenizer\n",
        "from tensorflow.keras.models import Sequential, load_model\n",
        "from tensorflow.keras.optimizers import Adam\n",
        "from tensorflow.keras import regularizers\n",
        "import tensorflow.keras.utils as ku \n",
        "import numpy as np"
      ],
      "id": "811958dc-6875-4a7e-8d0c-dfda12325a1d",
      "execution_count": 45,
      "outputs": []
    },
    {
      "cell_type": "markdown",
      "metadata": {
        "id": "5b69b2a5-5b4e-45f9-b058-e2f3bfa42a10"
      },
      "source": [
        "Prepare Data"
      ],
      "id": "5b69b2a5-5b4e-45f9-b058-e2f3bfa42a10"
    },
    {
      "cell_type": "code",
      "metadata": {
        "id": "68e02cb0-1e63-4a0b-8b4d-bc066ff068f7"
      },
      "source": [
        "data = open('lyrics.txt', encoding = 'utf-8').read()\n",
        "corpus = data.lower().split(\"\\n\")\n",
        "\n",
        "tokenizer = Tokenizer() #oov_token=\"<OOV>\"\n",
        "tokenizer.fit_on_texts(corpus)\n",
        "\n",
        "total_words = len(tokenizer.word_index) + 1\n",
        "\n",
        "# create input sequences using list of tokens\n",
        "input_sequences = []\n",
        "for line in corpus:\n",
        "    token_list = tokenizer.texts_to_sequences([line])[0]\n",
        "    for i in range(1, len(token_list)):\n",
        "        n_gram_sequence = token_list[:i+1]\n",
        "        input_sequences.append(n_gram_sequence)\n",
        "\n",
        "# pad sequences \n",
        "max_sequence_len = max([len(x) for x in input_sequences])\n",
        "input_sequences = np.array(pad_sequences(input_sequences, maxlen=max_sequence_len, padding='pre'))\n",
        "\n",
        "\n",
        "\n",
        "# create predictors and label\n",
        "predictors, label = input_sequences[:,:-1],input_sequences[:,-1]\n",
        "\n",
        "label = ku.to_categorical(label, num_classes=total_words)"
      ],
      "id": "68e02cb0-1e63-4a0b-8b4d-bc066ff068f7",
      "execution_count": 46,
      "outputs": []
    },
    {
      "cell_type": "code",
      "metadata": {
        "colab": {
          "base_uri": "https://localhost:8080/",
          "height": 35
        },
        "id": "e72b025d-4308-4203-b0e0-a617d3cbe354",
        "outputId": "8641ec48-b169-42bb-f8d8-c6cc32b203c7"
      },
      "source": [
        "#Some code for debugging \n",
        "\n",
        "'''\n",
        "word_index = tokenizer.word_index\n",
        "print(word_index)\n",
        "'''\n",
        "\n",
        "'''\n",
        "print(input_sequences[3])\n",
        "print(input_sequences.shape)\n",
        "'''"
      ],
      "id": "e72b025d-4308-4203-b0e0-a617d3cbe354",
      "execution_count": 47,
      "outputs": [
        {
          "output_type": "execute_result",
          "data": {
            "application/vnd.google.colaboratory.intrinsic+json": {
              "type": "string"
            },
            "text/plain": [
              "'\\nprint(input_sequences[3])\\nprint(input_sequences.shape)\\n'"
            ]
          },
          "metadata": {
            "tags": []
          },
          "execution_count": 47
        }
      ]
    },
    {
      "cell_type": "markdown",
      "metadata": {
        "id": "0fdd2741-249d-435f-b36f-c5294cf99980"
      },
      "source": [
        "## Initialize NN model (for this code to run it was needed to downgrade to numpy version == 1.18.5"
      ],
      "id": "0fdd2741-249d-435f-b36f-c5294cf99980"
    },
    {
      "cell_type": "code",
      "metadata": {
        "colab": {
          "base_uri": "https://localhost:8080/"
        },
        "id": "238201d6-e013-49ec-9e9f-8fa84f39e91f",
        "outputId": "07c6e987-b2ad-4306-8aab-19627d96f3ef"
      },
      "source": [
        "model = Sequential()\n",
        "model.add(Embedding(total_words, 128, input_length=max_sequence_len - 1))\n",
        "model.add(Bidirectional(LSTM(120, return_sequences=True)))\n",
        "model.add(Dropout(0.2))\n",
        "model.add(LSTM(96))\n",
        "model.add(Dense(total_words/2, activation='relu', kernel_regularizer=regularizers.l2(0.01)))\n",
        "model.add(Dense(total_words, activation='softmax'))\n",
        "\n",
        "\n",
        "model.compile(\n",
        "    loss='categorical_crossentropy',\n",
        "    optimizer='adam',\n",
        "    metrics=['accuracy']\n",
        ")\n",
        "\n",
        "print(model.summary())"
      ],
      "id": "238201d6-e013-49ec-9e9f-8fa84f39e91f",
      "execution_count": 48,
      "outputs": [
        {
          "output_type": "stream",
          "text": [
            "Model: \"sequential_1\"\n",
            "_________________________________________________________________\n",
            "Layer (type)                 Output Shape              Param #   \n",
            "=================================================================\n",
            "embedding_1 (Embedding)      (None, 89, 128)           315904    \n",
            "_________________________________________________________________\n",
            "bidirectional_1 (Bidirection (None, 89, 240)           239040    \n",
            "_________________________________________________________________\n",
            "dropout_1 (Dropout)          (None, 89, 240)           0         \n",
            "_________________________________________________________________\n",
            "lstm_3 (LSTM)                (None, 96)                129408    \n",
            "_________________________________________________________________\n",
            "dense_2 (Dense)              (None, 1234)              119698    \n",
            "_________________________________________________________________\n",
            "dense_3 (Dense)              (None, 2468)              3047980   \n",
            "=================================================================\n",
            "Total params: 3,852,030\n",
            "Trainable params: 3,852,030\n",
            "Non-trainable params: 0\n",
            "_________________________________________________________________\n",
            "None\n"
          ],
          "name": "stdout"
        }
      ]
    },
    {
      "cell_type": "code",
      "metadata": {
        "colab": {
          "base_uri": "https://localhost:8080/"
        },
        "id": "e38bc3ab-d180-47e6-b427-b3980d4f723e",
        "outputId": "f95c5c2d-4d86-445a-a946-3e6b9f0a3bb5"
      },
      "source": [
        "history = model.fit(predictors, label, epochs=100, verbose=1)\n"
      ],
      "id": "e38bc3ab-d180-47e6-b427-b3980d4f723e",
      "execution_count": 49,
      "outputs": [
        {
          "output_type": "stream",
          "text": [
            "Epoch 1/100\n",
            "275/275 [==============================] - 9s 21ms/step - loss: 6.9640 - accuracy: 0.0364\n",
            "Epoch 2/100\n",
            "275/275 [==============================] - 6s 21ms/step - loss: 6.3649 - accuracy: 0.0440\n",
            "Epoch 3/100\n",
            "275/275 [==============================] - 6s 21ms/step - loss: 6.2514 - accuracy: 0.0440\n",
            "Epoch 4/100\n",
            "275/275 [==============================] - 6s 20ms/step - loss: 6.1419 - accuracy: 0.0453\n",
            "Epoch 5/100\n",
            "275/275 [==============================] - 6s 20ms/step - loss: 6.0422 - accuracy: 0.0467\n",
            "Epoch 6/100\n",
            "275/275 [==============================] - 6s 20ms/step - loss: 5.9695 - accuracy: 0.0447\n",
            "Epoch 7/100\n",
            "275/275 [==============================] - 5s 20ms/step - loss: 5.9149 - accuracy: 0.0468\n",
            "Epoch 8/100\n",
            "275/275 [==============================] - 6s 20ms/step - loss: 5.8529 - accuracy: 0.0445\n",
            "Epoch 9/100\n",
            "275/275 [==============================] - 6s 20ms/step - loss: 5.7883 - accuracy: 0.0475\n",
            "Epoch 10/100\n",
            "275/275 [==============================] - 5s 20ms/step - loss: 5.7224 - accuracy: 0.0486\n",
            "Epoch 11/100\n",
            "275/275 [==============================] - 6s 21ms/step - loss: 5.6603 - accuracy: 0.0539\n",
            "Epoch 12/100\n",
            "275/275 [==============================] - 6s 21ms/step - loss: 5.5908 - accuracy: 0.0577\n",
            "Epoch 13/100\n",
            "275/275 [==============================] - 6s 21ms/step - loss: 5.5313 - accuracy: 0.0575\n",
            "Epoch 14/100\n",
            "275/275 [==============================] - 6s 21ms/step - loss: 5.4596 - accuracy: 0.0629\n",
            "Epoch 15/100\n",
            "275/275 [==============================] - 6s 20ms/step - loss: 5.3915 - accuracy: 0.0701\n",
            "Epoch 16/100\n",
            "275/275 [==============================] - 5s 20ms/step - loss: 5.3432 - accuracy: 0.0743\n",
            "Epoch 17/100\n",
            "275/275 [==============================] - 6s 20ms/step - loss: 5.2567 - accuracy: 0.0830\n",
            "Epoch 18/100\n",
            "275/275 [==============================] - 5s 20ms/step - loss: 5.1855 - accuracy: 0.0838\n",
            "Epoch 19/100\n",
            "275/275 [==============================] - 6s 20ms/step - loss: 5.1142 - accuracy: 0.0912\n",
            "Epoch 20/100\n",
            "275/275 [==============================] - 5s 20ms/step - loss: 5.0418 - accuracy: 0.0945\n",
            "Epoch 21/100\n",
            "275/275 [==============================] - 5s 20ms/step - loss: 4.9732 - accuracy: 0.1021\n",
            "Epoch 22/100\n",
            "275/275 [==============================] - 6s 20ms/step - loss: 4.9033 - accuracy: 0.1078\n",
            "Epoch 23/100\n",
            "275/275 [==============================] - 6s 21ms/step - loss: 4.8294 - accuracy: 0.1186\n",
            "Epoch 24/100\n",
            "275/275 [==============================] - 6s 21ms/step - loss: 4.7604 - accuracy: 0.1240\n",
            "Epoch 25/100\n",
            "275/275 [==============================] - 6s 22ms/step - loss: 4.6967 - accuracy: 0.1273\n",
            "Epoch 26/100\n",
            "275/275 [==============================] - 6s 21ms/step - loss: 4.6264 - accuracy: 0.1359\n",
            "Epoch 27/100\n",
            "275/275 [==============================] - 6s 20ms/step - loss: 4.5648 - accuracy: 0.1390\n",
            "Epoch 28/100\n",
            "275/275 [==============================] - 6s 21ms/step - loss: 4.4821 - accuracy: 0.1491\n",
            "Epoch 29/100\n",
            "275/275 [==============================] - 6s 22ms/step - loss: 4.4122 - accuracy: 0.1615\n",
            "Epoch 30/100\n",
            "275/275 [==============================] - 6s 22ms/step - loss: 4.3422 - accuracy: 0.1703\n",
            "Epoch 31/100\n",
            "275/275 [==============================] - 6s 22ms/step - loss: 4.2688 - accuracy: 0.1802\n",
            "Epoch 32/100\n",
            "275/275 [==============================] - 6s 21ms/step - loss: 4.1927 - accuracy: 0.1883\n",
            "Epoch 33/100\n",
            "275/275 [==============================] - 6s 21ms/step - loss: 4.1174 - accuracy: 0.1986\n",
            "Epoch 34/100\n",
            "275/275 [==============================] - 6s 21ms/step - loss: 4.0421 - accuracy: 0.2084\n",
            "Epoch 35/100\n",
            "275/275 [==============================] - 6s 21ms/step - loss: 3.9768 - accuracy: 0.2203\n",
            "Epoch 36/100\n",
            "275/275 [==============================] - 6s 21ms/step - loss: 3.9070 - accuracy: 0.2257\n",
            "Epoch 37/100\n",
            "275/275 [==============================] - 6s 21ms/step - loss: 3.8295 - accuracy: 0.2377\n",
            "Epoch 38/100\n",
            "275/275 [==============================] - 6s 20ms/step - loss: 3.7702 - accuracy: 0.2456\n",
            "Epoch 39/100\n",
            "275/275 [==============================] - 6s 20ms/step - loss: 3.6957 - accuracy: 0.2557\n",
            "Epoch 40/100\n",
            "275/275 [==============================] - 6s 21ms/step - loss: 3.6295 - accuracy: 0.2644\n",
            "Epoch 41/100\n",
            "275/275 [==============================] - 6s 22ms/step - loss: 3.5634 - accuracy: 0.2721\n",
            "Epoch 42/100\n",
            "275/275 [==============================] - 6s 22ms/step - loss: 3.5067 - accuracy: 0.2809\n",
            "Epoch 43/100\n",
            "275/275 [==============================] - 6s 22ms/step - loss: 3.4525 - accuracy: 0.2938\n",
            "Epoch 44/100\n",
            "275/275 [==============================] - 6s 20ms/step - loss: 3.3751 - accuracy: 0.3043\n",
            "Epoch 45/100\n",
            "275/275 [==============================] - 5s 20ms/step - loss: 3.3091 - accuracy: 0.3158\n",
            "Epoch 46/100\n",
            "275/275 [==============================] - 5s 20ms/step - loss: 3.2516 - accuracy: 0.3264\n",
            "Epoch 47/100\n",
            "275/275 [==============================] - 5s 20ms/step - loss: 3.1814 - accuracy: 0.3340\n",
            "Epoch 48/100\n",
            "275/275 [==============================] - 6s 20ms/step - loss: 3.1333 - accuracy: 0.3427\n",
            "Epoch 49/100\n",
            "275/275 [==============================] - 6s 20ms/step - loss: 3.0689 - accuracy: 0.3611\n",
            "Epoch 50/100\n",
            "275/275 [==============================] - 5s 20ms/step - loss: 3.0149 - accuracy: 0.3705\n",
            "Epoch 51/100\n",
            "275/275 [==============================] - 6s 20ms/step - loss: 2.9720 - accuracy: 0.3804\n",
            "Epoch 52/100\n",
            "275/275 [==============================] - 6s 21ms/step - loss: 2.9121 - accuracy: 0.3939\n",
            "Epoch 53/100\n",
            "275/275 [==============================] - 6s 21ms/step - loss: 2.9350 - accuracy: 0.3907\n",
            "Epoch 54/100\n",
            "275/275 [==============================] - 6s 21ms/step - loss: 2.9067 - accuracy: 0.3958\n",
            "Epoch 55/100\n",
            "275/275 [==============================] - 6s 21ms/step - loss: 2.7868 - accuracy: 0.4178\n",
            "Epoch 56/100\n",
            "275/275 [==============================] - 6s 20ms/step - loss: 2.7254 - accuracy: 0.4292\n",
            "Epoch 57/100\n",
            "275/275 [==============================] - 6s 20ms/step - loss: 2.6674 - accuracy: 0.4462\n",
            "Epoch 58/100\n",
            "275/275 [==============================] - 6s 20ms/step - loss: 2.6286 - accuracy: 0.4528\n",
            "Epoch 59/100\n",
            "275/275 [==============================] - 6s 20ms/step - loss: 2.5957 - accuracy: 0.4636\n",
            "Epoch 60/100\n",
            "275/275 [==============================] - 6s 20ms/step - loss: 2.5260 - accuracy: 0.4773\n",
            "Epoch 61/100\n",
            "275/275 [==============================] - 6s 20ms/step - loss: 2.4866 - accuracy: 0.4838\n",
            "Epoch 62/100\n",
            "275/275 [==============================] - 6s 20ms/step - loss: 2.4348 - accuracy: 0.4971\n",
            "Epoch 63/100\n",
            "275/275 [==============================] - 6s 22ms/step - loss: 2.3908 - accuracy: 0.5077\n",
            "Epoch 64/100\n",
            "275/275 [==============================] - 6s 22ms/step - loss: 2.3605 - accuracy: 0.5162\n",
            "Epoch 65/100\n",
            "275/275 [==============================] - 6s 22ms/step - loss: 2.3171 - accuracy: 0.5251\n",
            "Epoch 66/100\n",
            "275/275 [==============================] - 6s 22ms/step - loss: 2.2754 - accuracy: 0.5364\n",
            "Epoch 67/100\n",
            "275/275 [==============================] - 6s 21ms/step - loss: 2.2354 - accuracy: 0.5492\n",
            "Epoch 68/100\n",
            "275/275 [==============================] - 6s 20ms/step - loss: 2.2042 - accuracy: 0.5527\n",
            "Epoch 69/100\n",
            "275/275 [==============================] - 5s 20ms/step - loss: 2.1647 - accuracy: 0.5644\n",
            "Epoch 70/100\n",
            "275/275 [==============================] - 5s 20ms/step - loss: 2.1107 - accuracy: 0.5762\n",
            "Epoch 71/100\n",
            "275/275 [==============================] - 5s 20ms/step - loss: 2.0796 - accuracy: 0.5844\n",
            "Epoch 72/100\n",
            "275/275 [==============================] - 5s 20ms/step - loss: 2.0688 - accuracy: 0.5897\n",
            "Epoch 73/100\n",
            "275/275 [==============================] - 5s 20ms/step - loss: 2.0447 - accuracy: 0.5920\n",
            "Epoch 74/100\n",
            "275/275 [==============================] - 5s 20ms/step - loss: 2.0047 - accuracy: 0.6038\n",
            "Epoch 75/100\n",
            "275/275 [==============================] - 6s 21ms/step - loss: 1.9752 - accuracy: 0.6092\n",
            "Epoch 76/100\n",
            "275/275 [==============================] - 6s 21ms/step - loss: 1.9221 - accuracy: 0.6180\n",
            "Epoch 77/100\n",
            "275/275 [==============================] - 6s 21ms/step - loss: 1.8969 - accuracy: 0.6312\n",
            "Epoch 78/100\n",
            "275/275 [==============================] - 6s 21ms/step - loss: 1.8905 - accuracy: 0.6308\n",
            "Epoch 79/100\n",
            "275/275 [==============================] - 6s 21ms/step - loss: 1.8257 - accuracy: 0.6493\n",
            "Epoch 80/100\n",
            "275/275 [==============================] - 6s 20ms/step - loss: 1.7891 - accuracy: 0.6560\n",
            "Epoch 81/100\n",
            "275/275 [==============================] - 6s 20ms/step - loss: 1.7665 - accuracy: 0.6642\n",
            "Epoch 82/100\n",
            "275/275 [==============================] - 6s 20ms/step - loss: 1.7608 - accuracy: 0.6576\n",
            "Epoch 83/100\n",
            "275/275 [==============================] - 6s 20ms/step - loss: 1.7473 - accuracy: 0.6663\n",
            "Epoch 84/100\n",
            "275/275 [==============================] - 6s 20ms/step - loss: 1.6903 - accuracy: 0.6851\n",
            "Epoch 85/100\n",
            "275/275 [==============================] - 6s 20ms/step - loss: 1.6798 - accuracy: 0.6852\n",
            "Epoch 86/100\n",
            "275/275 [==============================] - 6s 20ms/step - loss: 1.6408 - accuracy: 0.6915\n",
            "Epoch 87/100\n",
            "275/275 [==============================] - 6s 22ms/step - loss: 1.6190 - accuracy: 0.6928\n",
            "Epoch 88/100\n",
            "275/275 [==============================] - 6s 21ms/step - loss: 1.6185 - accuracy: 0.6961\n",
            "Epoch 89/100\n",
            "275/275 [==============================] - 6s 21ms/step - loss: 1.5939 - accuracy: 0.7000\n",
            "Epoch 90/100\n",
            "275/275 [==============================] - 6s 21ms/step - loss: 1.5432 - accuracy: 0.7163\n",
            "Epoch 91/100\n",
            "275/275 [==============================] - 6s 20ms/step - loss: 1.5336 - accuracy: 0.7208\n",
            "Epoch 92/100\n",
            "275/275 [==============================] - 6s 21ms/step - loss: 1.4991 - accuracy: 0.7244\n",
            "Epoch 93/100\n",
            "275/275 [==============================] - 6s 21ms/step - loss: 1.4828 - accuracy: 0.7270\n",
            "Epoch 94/100\n",
            "275/275 [==============================] - 6s 21ms/step - loss: 1.4854 - accuracy: 0.7269\n",
            "Epoch 95/100\n",
            "275/275 [==============================] - 6s 21ms/step - loss: 1.4668 - accuracy: 0.7327\n",
            "Epoch 96/100\n",
            "275/275 [==============================] - 6s 21ms/step - loss: 1.4357 - accuracy: 0.7386\n",
            "Epoch 97/100\n",
            "275/275 [==============================] - 6s 20ms/step - loss: 1.3996 - accuracy: 0.7451\n",
            "Epoch 98/100\n",
            "275/275 [==============================] - 6s 20ms/step - loss: 1.3748 - accuracy: 0.7516\n",
            "Epoch 99/100\n",
            "275/275 [==============================] - 6s 20ms/step - loss: 1.3550 - accuracy: 0.7619\n",
            "Epoch 100/100\n",
            "275/275 [==============================] - 6s 20ms/step - loss: 1.3319 - accuracy: 0.7670\n"
          ],
          "name": "stdout"
        }
      ]
    },
    {
      "cell_type": "code",
      "metadata": {
        "colab": {
          "base_uri": "https://localhost:8080/",
          "height": 545
        },
        "id": "0cec8a9a-5188-462b-94f8-ecea4f587515",
        "outputId": "f6065a5e-e0dd-4906-df72-8d9ad6f6c779"
      },
      "source": [
        "import matplotlib.pyplot as plt\n",
        "acc = history.history['accuracy']\n",
        "loss = history.history['loss']\n",
        "\n",
        "epochs = range(len(acc))\n",
        "\n",
        "plt.plot(epochs, acc, 'b', label='Training accuracy')\n",
        "plt.title('Training accuracy')\n",
        "\n",
        "plt.figure()\n",
        "\n",
        "plt.plot(epochs, loss, 'b', label='Training Loss')\n",
        "plt.title('Training loss')\n",
        "plt.legend()\n",
        "\n",
        "plt.show()"
      ],
      "id": "0cec8a9a-5188-462b-94f8-ecea4f587515",
      "execution_count": 50,
      "outputs": [
        {
          "output_type": "display_data",
          "data": {
            "image/png": "[encoded data removed]",
            "text/plain": [
              "<Figure size 432x288 with 1 Axes>"
            ]
          },
          "metadata": {
            "tags": [],
            "needs_background": "light"
          }
        },
        {
          "output_type": "display_data",
          "data": {
            "image/png": "[encoded data removed]",
            "text/plain": [
              "<Figure size 432x288 with 1 Axes>"
            ]
          },
          "metadata": {
            "tags": [],
            "needs_background": "light"
          }
        }
      ]
    },
    {
      "cell_type": "code",
      "metadata": {
        "colab": {
          "base_uri": "https://localhost:8080/"
        },
        "id": "5b68a5b9-96f6-43ea-8171-97efbd995048",
        "outputId": "e948978d-d441-46ad-d705-8d9b1f07d148"
      },
      "source": [
        "seed_text = \"ο σωκράτης είναι άνεργος\"\n",
        "next_words = 15\n",
        "  \n",
        "for _ in range(next_words):\n",
        "    token_list = tokenizer.texts_to_sequences([seed_text])[0]\n",
        "    token_list = pad_sequences([token_list], maxlen=max_sequence_len-1, padding='pre')\n",
        "    predicted = model.predict_classes(token_list, verbose=0)\n",
        "    output_word = \"\"\n",
        "    for word, index in tokenizer.word_index.items():\n",
        "        if index == predicted:\n",
        "            output_word = word\n",
        "            break\n",
        "    seed_text += \" \" + output_word\n",
        "\n",
        "print(seed_text)"
      ],
      "id": "5b68a5b9-96f6-43ea-8171-97efbd995048",
      "execution_count": 86,
      "outputs": [
        {
          "output_type": "stream",
          "text": [
            "/usr/local/lib/python3.7/dist-packages/tensorflow/python/keras/engine/sequential.py:455: UserWarning: `model.predict_classes()` is deprecated and will be removed after 2021-01-01. Please use instead:* `np.argmax(model.predict(x), axis=-1)`,   if your model does multi-class classification   (e.g. if it uses a `softmax` last-layer activation).* `(model.predict(x) > 0.5).astype(\"int32\")`,   if your model does binary classification   (e.g. if it uses a `sigmoid` last-layer activation).\n",
            "  warnings.warn('`model.predict_classes()` is deprecated and '\n"
          ],
          "name": "stderr"
        },
        {
          "output_type": "stream",
          "text": [
            "ο σωκράτης είναι άνεργος είναι μεγάλος κι εχθρικός χρωστάς πρώτη σφαίρα στο ψέμα σου να έχω επιβάτηό σε κλειστό\n"
          ],
          "name": "stdout"
        }
      ]
    },
    {
      "cell_type": "code",
      "metadata": {
        "id": "3BNpBkxWQDin"
      },
      "source": [
        "#Save the model\n",
        "model.save('greekLyrics.h5')"
      ],
      "id": "3BNpBkxWQDin",
      "execution_count": 52,
      "outputs": []
    },
    {
      "cell_type": "code",
      "metadata": {
        "id": "07GosyJ-QSWB"
      },
      "source": [
        "#Load the model\n",
        "model = load_model('greekLyrics.h5')"
      ],
      "id": "07GosyJ-QSWB",
      "execution_count": null,
      "outputs": []
    },
    {
      "cell_type": "code",
      "metadata": {
        "id": "LnRmhQsWR4sh"
      },
      "source": [
        ""
      ],
      "id": "LnRmhQsWR4sh",
      "execution_count": null,
      "outputs": []
    }
  ]
}